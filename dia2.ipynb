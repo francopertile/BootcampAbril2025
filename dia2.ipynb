{
 "cells": [
  {
   "cell_type": "markdown",
   "id": "9a7e9d81",
   "metadata": {},
   "source": [
    "CHALLENGE NUMERO 1 --------------------------20 MINUTOS"
   ]
  },
  {
   "cell_type": "code",
   "execution_count": 9,
   "id": "51b640f7",
   "metadata": {},
   "outputs": [
    {
     "name": "stdout",
     "output_type": "stream",
     "text": [
      "toma no compra\n"
     ]
    }
   ],
   "source": [
    "#CHALLENGE CONDICIONALES Y OPERADORES DE COMPARACIÓN\n",
    "\n",
    "edad_usuario = int(input(\"Buenas!,Cuántos años tenés kraken?\"))\n",
    "\n",
    "if 18 < edad_usuario < 21:\n",
    "    print(\"toma no compra\")\n",
    "elif edad_usuario < 18:\n",
    "    print(\"jugo noma kp \")\n",
    "else:\n",
    "    print(\"Hacé lo que quieras pa...\")\n"
   ]
  },
  {
   "cell_type": "code",
   "execution_count": 4,
   "id": "00cf0775",
   "metadata": {},
   "outputs": [
    {
     "name": "stdout",
     "output_type": "stream",
     "text": [
      "podés tomar, pero no comprar\n"
     ]
    }
   ],
   "source": [
    "#OTRA LÓGICA, SE DEFINEN LOS EXTREMOS Y SE DEJA EL GAP DE 18 A 21 EN \"ELSE\"\n",
    "\n",
    "edad_usuario = 20\n",
    "\n",
    "if edad_usuario < 18:\n",
    "    print(\"no tomás vo broski, tomatela gato\")\n",
    "elif edad_usuario > 21:\n",
    "    print(\"hace lo que quieras pa\")\n",
    "else:\n",
    "    print(\"podés tomar, pero no comprar\")"
   ]
  },
  {
   "cell_type": "markdown",
   "id": "3aac6be5",
   "metadata": {},
   "source": [
    "CHALLENGE NÚMERO DOS -------------------------30 MINUTOS"
   ]
  },
  {
   "cell_type": "code",
   "execution_count": null,
   "id": "66081d50",
   "metadata": {},
   "outputs": [
    {
     "name": "stdout",
     "output_type": "stream",
     "text": [
      "87 grados Celcius.\n",
      "Ñamano mba'eeeeee\n"
     ]
    }
   ],
   "source": [
    "#CHALLENGE USANDO OPERADORES ,CONDICIONALES DENTRO DE UNA FUNCIÓN\n",
    "\n",
    "temperatura_dada = int(input(\"Dime una temperatura en grados Celcius:\"))\n",
    "\n",
    "print(f\"{temperatura_dada} grados Celcius.\")\n",
    "\n",
    "if -10 <= temperatura_dada <= 18:\n",
    "    print(\"fresquete chill bro.\")\n",
    "elif 19 <= temperatura_dada <= 30:\n",
    "    print(\"Calor'i kpppp.\")\n",
    "elif 31 <= temperatura_dada <=45:\n",
    "    print(\"Hakuuuuu lekaa.\")\n",
    "else:\n",
    "    print(\"Ñamano mba'eeeeee!!!.\")"
   ]
  },
  {
   "cell_type": "code",
   "execution_count": 22,
   "id": "2d1c3ece",
   "metadata": {},
   "outputs": [
    {
     "name": "stdout",
     "output_type": "stream",
     "text": [
      "88 grados Celcius.\n",
      "Ñamano mba'eeeeee!!!.\n"
     ]
    }
   ],
   "source": [
    "#AHORA INTENTANDO DENTRO DE UNA FUNCIÓN\n",
    "\n",
    "temperatura_dada = int(input(\"Dime una temperatura en grados Celcius:\"))\n",
    "\n",
    "def clasificación_temperatura(temperatura_dada):\n",
    "    print(f\"{temperatura_dada} grados Celcius.\")\n",
    "\n",
    "    if -10 <= temperatura_dada <= 18:\n",
    "        print(\"fresquete chill bro.\")\n",
    "    elif 19 <= temperatura_dada <= 30:\n",
    "        print(\"Calor'i kpppp.\")\n",
    "    elif 31 <= temperatura_dada <=45:\n",
    "        print(\"Hakuuuuu lekaa.\")\n",
    "    else:\n",
    "        print(\"Ñamano mba'eeeeee!!!.\")\n",
    "\n",
    "clasificación_temperatura(temperatura_dada)"
   ]
  },
  {
   "cell_type": "code",
   "execution_count": 24,
   "id": "69263147",
   "metadata": {},
   "outputs": [
    {
     "name": "stdout",
     "output_type": "stream",
     "text": [
      "31 grados Celcius.\n",
      "Hakuuuuu lekaa.\n"
     ]
    }
   ],
   "source": [
    "#AHORA INTENTANDO INCLUIR BOOLEANOS Y OPERADORES LÓGICOS\n",
    "\n",
    "temperatura_dada = int(input(\"Dime una temperatura en grados Celcius:\"))\n",
    "\n",
    "def clasificación_temperatura(temperatura_dada):\n",
    "    print(f\"{temperatura_dada} grados Celcius.\")\n",
    "\n",
    "    if temperatura_dada >= -10 and temperatura_dada <= 18:\n",
    "        print(\"fresquete chill bro.\")\n",
    "    elif temperatura_dada >= 19 and temperatura_dada <= 30:\n",
    "        print(\"Calor'i kpppp.\")\n",
    "    elif temperatura_dada >= 31 and temperatura_dada <= 45:\n",
    "        print(\"Hakuuuuu lekaa.\")\n",
    "    else:\n",
    "        print(\"Ñamano mba'eeeeee!!!.\")\n",
    "\n",
    "clasificación_temperatura(temperatura_dada)"
   ]
  },
  {
   "cell_type": "markdown",
   "id": "dd2336df",
   "metadata": {},
   "source": [
    "CHALLENGE NUMERO 2-------------------------------------------------20 MINUTOS"
   ]
  },
  {
   "cell_type": "code",
   "execution_count": null,
   "id": "77ff2033",
   "metadata": {},
   "outputs": [
    {
     "name": "stdout",
     "output_type": "stream",
     "text": [
      "Contra incorrecta\n",
      "Acceso Permitido\n",
      "El secreto de la eterna juventud es nunca mezclar tereré con sandía. Felicidades!!\n"
     ]
    }
   ],
   "source": [
    "#CHALLENGE USANDO WHILE \n",
    "contra_correcta = 'papiccp1912'\n",
    "contra_ingresada = 'papirrín'\n",
    "\n",
    "while contra_correcta != contra_ingresada:\n",
    "    print('Contra incorrecta')\n",
    "    contra_ingresada = input('Contraseña incorrecta. Intenta de nuevo')\n",
    "\n",
    "print('Acceso Permitido')\n",
    "print('El secreto de la eterna juventud es nunca mezclar tereré con sandía. Felicidades!!')"
   ]
  },
  {
   "cell_type": "code",
   "execution_count": 29,
   "id": "c4941bcd",
   "metadata": {},
   "outputs": [
    {
     "name": "stdout",
     "output_type": "stream",
     "text": [
      "respuesta incorrecta\n",
      "respuesta incorrecta\n",
      "respuesta incorrecta\n",
      "Contra correcta\n",
      "El secreto de la eterna juventud es nunca mezclar tereré con sandía. Felicidades!!\n"
     ]
    }
   ],
   "source": [
    "#CHALLENGE USANDO WHILE AND BREAK\n",
    "contra_correcta = 'papiccp1912'\n",
    "contra_ingresada = 'papirrín'\n",
    "\n",
    "while True:\n",
    "    contra_ingresada = input('ingrese contraseña')\n",
    "    if contra_ingresada == contra_correcta:\n",
    "        print('Contra correcta')\n",
    "        print('El secreto de la eterna juventud es nunca mezclar tereré con sandía. Felicidades!!')\n",
    "        break\n",
    "    else:\n",
    "        print('respuesta incorrecta')\n"
   ]
  },
  {
   "cell_type": "markdown",
   "id": "3591cb05",
   "metadata": {},
   "source": [
    "CHALLENGE NUMERO 3 ------------------- 20 MINUTOS\n"
   ]
  },
  {
   "cell_type": "code",
   "execution_count": 32,
   "id": "d6953629",
   "metadata": {},
   "outputs": [
    {
     "name": "stdout",
     "output_type": "stream",
     "text": [
      "['arroz', 'pollo', 'salsa de soja', 'oregano', 'aceite', 'barra de uranio']\n",
      "['arroz', 'piña', 'salsa de soja', 'oregano', 'aceite', 'barra de uranio']\n",
      "['arroz', 'piña', 'oregano', 'aceite', 'barra de uranio']\n"
     ]
    }
   ],
   "source": [
    "#challenge con listas y modificaciones\n",
    "lista_de_compras = ['arroz','pollo','salsa de soja','oregano','aceite']\n",
    "\n",
    "lista_de_compras.append('barra de uranio')\n",
    "print(lista_de_compras)\n",
    "\n",
    "lista_de_compras[1] = 'piña'\n",
    "print(lista_de_compras)\n",
    "\n",
    "lista_de_compras.pop(2)\n",
    "print(lista_de_compras)"
   ]
  },
  {
   "cell_type": "markdown",
   "id": "6771ee10",
   "metadata": {},
   "source": [
    "CHALLENGE NUMERO 4 -----------------------20 MINUTOS"
   ]
  },
  {
   "cell_type": "code",
   "execution_count": 37,
   "id": "eea371b0",
   "metadata": {},
   "outputs": [
    {
     "name": "stdout",
     "output_type": "stream",
     "text": [
      "2\n",
      "4\n",
      "6\n",
      "8\n",
      "10\n",
      "12\n",
      "14\n",
      "16\n",
      "18\n",
      "20\n",
      "2\n",
      "4\n",
      "6\n",
      "8\n",
      "10\n",
      "12\n",
      "14\n",
      "16\n",
      "18\n",
      "20\n"
     ]
    }
   ],
   "source": [
    "#CHALLENGE ITERACIONES Y LISTAS\n",
    "\n",
    "numerillos = [1,2,3,4,5,6,7,8,9,10]\n",
    "\n",
    "for number in numerillos:\n",
    "    \n",
    "  print(number * 2)\n",
    "\n",
    "for multiplo_par in range(1,11):\n",
    "    print(multiplo_par * 2)"
   ]
  },
  {
   "cell_type": "markdown",
   "id": "fc0288ac",
   "metadata": {},
   "source": [
    "CHALLENGE NUMERO 5-------------------------20 MINUTOS"
   ]
  },
  {
   "cell_type": "code",
   "execution_count": 39,
   "id": "a780c1f4",
   "metadata": {},
   "outputs": [
    {
     "name": "stdout",
     "output_type": "stream",
     "text": [
      "adidas\n",
      "reebok\n",
      "New Balance\n",
      "lacoste\n",
      "Under Armour\n"
     ]
    }
   ],
   "source": [
    "#CHALLENGE LISTAS, LEN(), ITERACION\n",
    "\n",
    "marcas = ['adidas','reebok','nike','gucci','New Balance','on','lacoste','puma','Under Armour']\n",
    "\n",
    "for marca in marcas:\n",
    "    if len(marca) >= 6:\n",
    "        print(marca)"
   ]
  },
  {
   "cell_type": "markdown",
   "id": "2985586d",
   "metadata": {},
   "source": [
    "CHALLENGE NUMERO 6 ----------------------15MINUTOS"
   ]
  },
  {
   "cell_type": "code",
   "execution_count": 41,
   "id": "48f3bb67",
   "metadata": {},
   "outputs": [
    {
     "name": "stdout",
     "output_type": "stream",
     "text": [
      "en el horoscopo soy del signo mono drogado\n",
      "WOW hemos encontrado la letra \"O\". Maravilla.\n",
      "WOW hemos encontrado la letra \"O\". Maravilla.\n",
      "WOW hemos encontrado la letra \"O\". Maravilla.\n",
      "WOW hemos encontrado la letra \"O\". Maravilla.\n",
      "WOW hemos encontrado la letra \"O\". Maravilla.\n",
      "WOW hemos encontrado la letra \"O\". Maravilla.\n",
      "WOW hemos encontrado la letra \"O\". Maravilla.\n",
      "WOW hemos encontrado la letra \"O\". Maravilla.\n",
      "WOW hemos encontrado la letra \"O\". Maravilla.\n",
      "WOW hemos encontrado la letra \"O\". Maravilla.\n"
     ]
    }
   ],
   "source": [
    "#CHALLENGE ITERANDO LISTA Y REACCIONANDO A DETERMINADO CARACTER\n",
    "\n",
    "mensaje_especiaru = input('Tipea una frase elegante:')\n",
    "print(mensaje_especiaru)\n",
    "\n",
    "for letra_o in mensaje_especiaru:\n",
    "    mismisima_o = 'o'\n",
    "    if letra_o == mismisima_o:\n",
    "        print('WOW hemos encontrado la letra \"O\". Maravilla.')"
   ]
  }
 ],
 "metadata": {
  "kernelspec": {
   "display_name": "Python 3",
   "language": "python",
   "name": "python3"
  },
  "language_info": {
   "codemirror_mode": {
    "name": "ipython",
    "version": 3
   },
   "file_extension": ".py",
   "mimetype": "text/x-python",
   "name": "python",
   "nbconvert_exporter": "python",
   "pygments_lexer": "ipython3",
   "version": "3.12.4"
  }
 },
 "nbformat": 4,
 "nbformat_minor": 5
}
