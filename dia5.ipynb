{
 "cells": [
  {
   "cell_type": "markdown",
   "id": "f71de8af",
   "metadata": {},
   "source": [
    "CHALLENGE NUMERO 1 ---------------- MINUTOS"
   ]
  },
  {
   "cell_type": "code",
   "execution_count": 3,
   "id": "348b719d",
   "metadata": {},
   "outputs": [
    {
     "name": "stdout",
     "output_type": "stream",
     "text": [
      "{'nombre': 'pabloski'}\n",
      "{'nombre': 'pabloski', 'apellido': 'medina'}\n",
      "{'nombre': 'pabloski', 'apellido': 'medina', 'sexo': 'masculino'}\n",
      "{'nombre': 'pabloski', 'apellido': 'medina', 'sexo': 'masculino', 'telefono': '098677777'}\n",
      "{'nombre': 'pabloski', 'apellido': 'medina', 'sexo': 'masculino', 'telefono': '098677777', 'email': 'ui@kk'}\n"
     ]
    }
   ],
   "source": [
    "\n",
    "\n",
    "\n",
    "\n",
    "\n",
    "\n",
    "mi_contacto = {}\n",
    "\n",
    "nombre = input('Ingresar nombre: ')\n",
    "mi_contacto['nombre'] = nombre\n",
    "print(mi_contacto)\n",
    "\n",
    "apellido = input('Ingresar Apellido: ')\n",
    "mi_contacto['apellido'] = apellido\n",
    "print(mi_contacto)\n",
    "\n",
    "sexo = input('Sexo: ')\n",
    "mi_contacto['sexo'] = sexo\n",
    "print(mi_contacto)\n",
    "\n",
    "telefono = input('Teléfono: ')\n",
    "mi_contacto['telefono'] = telefono\n",
    "print(mi_contacto)\n",
    "\n",
    "email = input('Correo Electrónico: ')\n",
    "mi_contacto['email'] = email\n",
    "print(mi_contacto)"
   ]
  },
  {
   "cell_type": "markdown",
   "id": "bf1eb4e5",
   "metadata": {},
   "source": [
    "CHALLENGE 2 ---------------- ALMUERZO"
   ]
  },
  {
   "cell_type": "code",
   "execution_count": null,
   "id": "55079431",
   "metadata": {},
   "outputs": [
    {
     "name": "stdout",
     "output_type": "stream",
     "text": [
      "Dato eliminado\n",
      "{'Apellido': 'xxxx', 'Edad': 'xxxx', 'Ciudad': 'xxxx'}\n"
     ]
    }
   ],
   "source": [
    "tarjeta_personal = {'Nombre': 'xxxx','Apellido':'xxxx','Edad':'xxxx', 'Ciudad':'xxxx'}\n",
    "\n",
    "accion_tarjeta = input('DESEA: 1. CARGAR DATOS, 2. MODIFICAR DATOS, 3. ELIMINAR DATOS o 4. Salir')\n",
    "\n",
    "def cargar_datos(tarjeta_personal):\n",
    "    tarjeta_personal['Nombre']= input('Introduzca Nombre: ')\n",
    "    tarjeta_personal['Apellido']= input('Introduzca Apellido: ')\n",
    "    tarjeta_personal['Edad']= input('Introduzca Edad: ')\n",
    "    tarjeta_personal['Ciudad']= input('Introduzca Ciudad: ')\n",
    "    print(tarjeta_personal)\n",
    "     \n",
    "\n",
    "\n",
    "\n",
    "if accion_tarjeta.lower()  == 'cargar datos':\n",
    "    print ('comencemos')\n",
    "    cargar_datos(tarjeta_personal)\n",
    "    \n",
    "\n",
    "elif accion_tarjeta.lower() == 'modificar datos':\n",
    "    clave_a_modificar = input('cual dato desea modificar').capitalize() \n",
    "    if clave_a_modificar in tarjeta_personal:\n",
    "        nuevo_dato = input('ingrese nuevo vvalor')\n",
    "        tarjeta_personal[clave_a_modificar] = nuevo_dato\n",
    "        print('dato modificado')\n",
    "        print(tarjeta_personal)\n",
    "    else:\n",
    "        print('clave no existe. son Nombre, Apellido, Edad, Ciudad')\n",
    "\n",
    "\n",
    "        \n",
    "elif accion_tarjeta.lower() == 'eliminar datos':\n",
    "    clave_a_eliminar = input('cuál desea eliminar')\n",
    "    if clave_a_eliminar in tarjeta_personal:\n",
    "        del tarjeta_personal[clave_a_eliminar]  \n",
    "        print('Dato eliminado')\n",
    "        print(tarjeta_personal)  \n",
    "\n",
    "\n"
   ]
  },
  {
   "cell_type": "markdown",
   "id": "3a267d53",
   "metadata": {},
   "source": [
    "SOLUCIÓN CON EDUUUUU"
   ]
  },
  {
   "cell_type": "code",
   "execution_count": null,
   "id": "6f86a082",
   "metadata": {},
   "outputs": [],
   "source": [
    "tarjeta_personal = {}\n",
    "\n",
    "'''\n",
    "crear, modificar, eliminar\n",
    "\n",
    "\n",
    "\n",
    "'''\n",
    "seleccion = int(input('ingrese opción'))"
   ]
  },
  {
   "cell_type": "markdown",
   "id": "c0163601",
   "metadata": {},
   "source": [
    "\n",
    "CHALLENGE 3 ------------ MINUTOS"
   ]
  },
  {
   "cell_type": "code",
   "execution_count": null,
   "id": "44f2cb43",
   "metadata": {},
   "outputs": [
    {
     "name": "stdout",
     "output_type": "stream",
     "text": [
      "{'franco': {'nombre': 'franco', 'apellido': 'pertile', 'ciudad': 'asuncion'}, 'jose': {'nombre': 'jose', 'apellido': 'caracal', 'ciudad': 'fernando'}, 'clara': {'nombre': 'clara', 'apellido': 'forriol', 'ciudad': 'madrid'}}\n"
     ]
    }
   ],
   "source": [
    "franco = {'nombre':'franco','apellido':'pertile','ciudad':'asuncion'}\n",
    "jose = {'nombre':'jose','apellido':'caracal','ciudad': 'fernando'}\n",
    "clara = {'nombre':'clara','apellido':'forriol','ciudad':'madrid'}\n",
    "\n",
    "\n",
    "agenda = {\n",
    "    'franco':franco,\n",
    "    'jose':jose,\n",
    "    'clara':clara}\n",
    "while True:\n",
    "\n",
    "    accion_agenda = input('DESEA: 1. Mostrar Contactos, 2. Crear Contacto, 3. Modificar o 4. Salir')\n",
    "\n",
    "    if accion_agenda == 1:\n",
    "        print(agenda)\n",
    "    \n",
    "    elif accion_agenda == 2:\n",
    "        \n",
    "        contacto['Nombre']= input('Introduzca Nombre: ')\n",
    "        contacto['Apellido']= input('Introduzca Apellido: ')\n",
    "        contacto['Edad']= input('Introduzca Edad: ')\n",
    "        contacto['Ciudad']= input('Introduzca Ciudad: ')\n",
    "        print(contacto)\n",
    "        \n",
    "\n"
   ]
  },
  {
   "cell_type": "markdown",
   "id": "714bf188",
   "metadata": {},
   "source": [
    "CHALLENGE OOP, CLASS Y METODOS---------------------- MINUTOS"
   ]
  },
  {
   "cell_type": "code",
   "execution_count": 18,
   "id": "052c015e",
   "metadata": {},
   "outputs": [
    {
     "name": "stdout",
     "output_type": "stream",
     "text": [
      "miau miau idgaf miau\n"
     ]
    },
    {
     "data": {
      "text/plain": [
       "'michi'"
      ]
     },
     "execution_count": 18,
     "metadata": {},
     "output_type": "execute_result"
    }
   ],
   "source": [
    "class Gato:\n",
    "    \n",
    "\n",
    "\n",
    "    def __init__(self, nombre, edad):\n",
    "        self.nombre = nombre\n",
    "        self.edad = edad\n",
    "\n",
    "    def maullar(self):\n",
    "        return 'miau miau idgaf miau'\n",
    "    \n",
    "    def saltar(self):\n",
    "        return 'salto en los techos detrás de gatas'\n",
    "    \n",
    "michi = Gato('michi','8 años')\n",
    "\n",
    "print(michi.maullar())\n",
    "michi.nombre\n",
    "\n",
    "    \n"
   ]
  },
  {
   "cell_type": "code",
   "execution_count": 22,
   "id": "37762777",
   "metadata": {},
   "outputs": [
    {
     "name": "stdout",
     "output_type": "stream",
     "text": [
      "brrrrmmmm\n",
      "piiiiimmm pim\n"
     ]
    }
   ],
   "source": [
    "class Car:\n",
    "    ruedas = 4\n",
    "    motor = 1\n",
    "    chasis = 1\n",
    "    \n",
    "    def __init__(self,marca,color):\n",
    "        self.marca = marca\n",
    "        self.color = color\n",
    "\n",
    "    def arrancar(self):\n",
    "        return 'brrrrmmmm'\n",
    "    \n",
    "    def bocinar(self):\n",
    "        return 'piiiiimmm pim'\n",
    "    \n",
    "fierrazo = Car('toyota', 'azul')\n",
    "    \n",
    "class Fierrito(Car):\n",
    "\n",
    "    def soquear(self):\n",
    "        return 'tsst tsst tsst'\n",
    "\n",
    "    def trabar_caja(self):\n",
    "        return 'clack clack trrck'   \n",
    "\n",
    "\n",
    "megatron = Fierrito('audi','verde')\n",
    "\n",
    "print(megatron.arrancar())\n",
    "print(megatron.bocinar())\n",
    "    "
   ]
  }
 ],
 "metadata": {
  "kernelspec": {
   "display_name": "Python 3",
   "language": "python",
   "name": "python3"
  },
  "language_info": {
   "codemirror_mode": {
    "name": "ipython",
    "version": 3
   },
   "file_extension": ".py",
   "mimetype": "text/x-python",
   "name": "python",
   "nbconvert_exporter": "python",
   "pygments_lexer": "ipython3",
   "version": "3.12.4"
  }
 },
 "nbformat": 4,
 "nbformat_minor": 5
}
