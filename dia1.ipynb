{
 "cells": [
  {
   "cell_type": "code",
   "execution_count": 1,
   "id": "df64ede2",
   "metadata": {},
   "outputs": [
    {
     "name": "stdout",
     "output_type": "stream",
     "text": [
      "Hola mundo\n"
     ]
    }
   ],
   "source": [
    "print(\"Hola mundo\")"
   ]
  },
  {
   "cell_type": "markdown",
   "id": "08ca4022",
   "metadata": {},
   "source": [
    "PRIMER CHALLENGE ------------------- 20 MINUTOS"
   ]
  },
  {
   "cell_type": "code",
   "execution_count": null,
   "id": "53ebd28e",
   "metadata": {},
   "outputs": [
    {
     "name": "stdout",
     "output_type": "stream",
     "text": [
      "10\n",
      "5\n"
     ]
    }
   ],
   "source": [
    "\n",
    "#OPERACIÓN SUMA\n",
    "cantidad_de_manzanas = 5\n",
    "cantidad_de_naranjas = 5\n",
    "cantidad_de_frutas= cantidad_de_manzanas + cantidad_de_naranjas\n",
    "\n",
    "print(cantidad_de_frutas)\n",
    "\n",
    "#OPERACIÓN RESTA\n",
    "frutas_vendidas = 5\n",
    "frutas_restantes = cantidad_de_frutas - frutas_vendidas\n",
    "\n",
    "print(frutas_restantes)"
   ]
  },
  {
   "cell_type": "markdown",
   "id": "747b32be",
   "metadata": {},
   "source": [
    "CHALLENGE NUMERO 2----------- 15MINUTOS"
   ]
  },
  {
   "cell_type": "code",
   "execution_count": 9,
   "id": "2bb7c835",
   "metadata": {},
   "outputs": [
    {
     "name": "stdout",
     "output_type": "stream",
     "text": [
      "Hola. Me llamo Matías Espínola. Mucho Gusto.\n",
      "Hola. Me llamo Matías Espínola. Mucho Gusto.\n"
     ]
    }
   ],
   "source": [
    "# CHALLENGE Concatenar unir\n",
    "nombre = \"Matías\"\n",
    "apellido = \"Espínola\"\n",
    "print(f\"Hola. Me llamo {nombre} {apellido}. Mucho Gusto.\")\n",
    "\n",
    "print(\"Hola. Me llamo\"+\" \"+nombre+\" \"+apellido+\".\"+\" \"+\"Mucho Gusto.\")"
   ]
  },
  {
   "cell_type": "markdown",
   "id": "42d0b22c",
   "metadata": {},
   "source": [
    "PEQUEÑO TERCER CHALLENGE-----------------------------10 MINUTOS"
   ]
  },
  {
   "cell_type": "code",
   "execution_count": 11,
   "id": "21a2b8a7",
   "metadata": {},
   "outputs": [
    {
     "name": "stdout",
     "output_type": "stream",
     "text": [
      "20\n"
     ]
    }
   ],
   "source": [
    "#CHALLENGE INPUT DE NUMEROS Y SUMA\n",
    "numero_uno = input(\"Dame un número cualquiera:\")\n",
    "numero_dos = input(\"Dame otro número porfis\")\n",
    "\n",
    "suma_de_números = int(numero_uno) + int(numero_dos)\n",
    "print(suma_de_números)\n"
   ]
  },
  {
   "cell_type": "markdown",
   "id": "8a04501e",
   "metadata": {},
   "source": [
    "CUARTO CHALLENGE----------------------10MINUTOS"
   ]
  },
  {
   "cell_type": "code",
   "execution_count": 15,
   "id": "8e37669f",
   "metadata": {},
   "outputs": [
    {
     "name": "stdout",
     "output_type": "stream",
     "text": [
      "Despertar\n",
      "Rutina de Yoga\n",
      "Tomar una ducha\n",
      "Realizar skincare\n",
      "Desayunar receta fitness\n",
      "Preparar la mochila y salir de casa\n",
      "Trotar hasta el Edificio DOT\n",
      "llegaste crack!!!\n",
      "Despertar\n",
      "Rutina de Yoga\n",
      "Tomar una ducha\n",
      "Realizar skincare\n",
      "Desayunar receta fitness\n",
      "Preparar la mochila y salir de casa\n",
      "Trotar hasta el Edificio DOT\n",
      "llegaste crack!!!\n",
      "Despertar\n",
      "Rutina de Yoga\n",
      "Tomar una ducha\n",
      "Realizar skincare\n",
      "Desayunar receta fitness\n",
      "Preparar la mochila y salir de casa\n",
      "Trotar hasta el Edificio DOT\n",
      "llegaste crack!!!\n"
     ]
    }
   ],
   "source": [
    "#CHALLENGE DEFINICIÓN DE FUNCIONES\n",
    "def llegar_a_penguin():\n",
    "    print(\"Despertar\")\n",
    "    print(\"Rutina de Yoga\")\n",
    "    print(\"Tomar una ducha\")\n",
    "    print(\"Realizar skincare\")\n",
    "    print(\"Desayunar receta fitness\")\n",
    "    print(\"Preparar la mochila y salir de casa\")\n",
    "    print(\"Trotar hasta el Edificio DOT\")\n",
    "    print(\"llegaste crack!!!\")\n",
    "\n",
    "llegar_a_penguin()\n",
    "llegar_a_penguin()\n",
    "llegar_a_penguin()"
   ]
  },
  {
   "cell_type": "markdown",
   "id": "31deb214",
   "metadata": {},
   "source": [
    "QUINTO CHALLENGE-----------------------------------15MINUTOS"
   ]
  },
  {
   "cell_type": "code",
   "execution_count": null,
   "id": "a003df79",
   "metadata": {},
   "outputs": [
    {
     "name": "stdout",
     "output_type": "stream",
     "text": [
      "Computadora Nokia Victus\n",
      "Terminación metálica de color rojazo\n",
      "Memoria RAM de 8 gb\n",
      "Sistema operativo PenguinOS\n",
      "Es una maquinota vro!!\n"
     ]
    }
   ],
   "source": [
    "#ESCRIBIR UNA FUNCIÓN PARAMETROS ARGUMENTO\n",
    "def computadora_nueva(color, ram, os):\n",
    "    print(\"Computadora Nokia Victus\")\n",
    "    print(f\"Terminación metálica de color {color}\")\n",
    "    print(f\"Memoria RAM de {ram}\")\n",
    "    print(f\"Sistema operativo {os}\")\n",
    "    print(\"Es una maquinota vro!!\")\n",
    "\n",
    "computadora_nueva('rojazo','8 gb','PenguinOS')\n"
   ]
  }
 ],
 "metadata": {
  "kernelspec": {
   "display_name": "Python 3",
   "language": "python",
   "name": "python3"
  },
  "language_info": {
   "codemirror_mode": {
    "name": "ipython",
    "version": 3
   },
   "file_extension": ".py",
   "mimetype": "text/x-python",
   "name": "python",
   "nbconvert_exporter": "python",
   "pygments_lexer": "ipython3",
   "version": "3.12.4"
  }
 },
 "nbformat": 4,
 "nbformat_minor": 5
}
