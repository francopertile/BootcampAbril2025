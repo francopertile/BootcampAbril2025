{
 "cells": [
  {
   "cell_type": "markdown",
   "id": "4414acf4",
   "metadata": {},
   "source": [
    "DIA 3 BOOTCAMP"
   ]
  },
  {
   "cell_type": "code",
   "execution_count": 2,
   "id": "226a46b8",
   "metadata": {},
   "outputs": [
    {
     "name": "stdout",
     "output_type": "stream",
     "text": [
      "Hola Mundo\n"
     ]
    }
   ],
   "source": [
    "def imprimir_saludo():\n",
    "    print('Hola Mundo')\n",
    "\n",
    "imprimir_saludo() "
   ]
  },
  {
   "cell_type": "markdown",
   "id": "1245e097",
   "metadata": {},
   "source": [
    "CHALLENGE 1 ------------ 10 MINUTOS"
   ]
  },
  {
   "cell_type": "code",
   "execution_count": 5,
   "id": "236de21b",
   "metadata": {},
   "outputs": [
    {
     "name": "stdout",
     "output_type": "stream",
     "text": [
      "una palabra random\n"
     ]
    }
   ],
   "source": [
    "palabra = 'una palabra random'\n",
    "\n",
    "def imprimir_palabra(palabra):\n",
    "    print(palabra)\n",
    "\n",
    "imprimir_palabra(palabra)"
   ]
  },
  {
   "cell_type": "code",
   "execution_count": 7,
   "id": "d882a654",
   "metadata": {},
   "outputs": [
    {
     "name": "stdout",
     "output_type": "stream",
     "text": [
      "la cancha de river\n"
     ]
    }
   ],
   "source": [
    "def imprime_palabra():\n",
    "    palabra = 'la cancha de river'\n",
    "    print(palabra)\n",
    "\n",
    "imprime_palabra()"
   ]
  },
  {
   "cell_type": "markdown",
   "id": "7fcc7575",
   "metadata": {},
   "source": [
    "CHALLENGE NUMERO 2 ------------------------ 20 MINUTOS"
   ]
  },
  {
   "cell_type": "code",
   "execution_count": 16,
   "id": "ba6ca0a4",
   "metadata": {},
   "outputs": [
    {
     "name": "stdout",
     "output_type": "stream",
     "text": [
      "Las letras son iguales\n"
     ]
    }
   ],
   "source": [
    "letra_1 = 'a'\n",
    "letra_2 = 'b'\n",
    "letra_3 = 'A'\n",
    "\n",
    "def comparar_letras(letra_1,letra_2):\n",
    "    if letra_1.lower() == letra_2.lower():\n",
    "        print('Las letras son iguales')\n",
    "    else:\n",
    "        print('Las letras son diferentes')\n",
    "\n",
    "comparar_letras(letra_1,letra_3)\n"
   ]
  },
  {
   "cell_type": "markdown",
   "id": "d809b673",
   "metadata": {},
   "source": [
    "CHALLENGE NUMERO 3 ----------------------20 MINUTOS"
   ]
  },
  {
   "cell_type": "code",
   "execution_count": null,
   "id": "d6658831",
   "metadata": {},
   "outputs": [
    {
     "name": "stdout",
     "output_type": "stream",
     "text": [
      "desiguales {palabra} y {numero}\n"
     ]
    },
    {
     "data": {
      "text/plain": [
       "False"
      ]
     },
     "execution_count": 23,
     "metadata": {},
     "output_type": "execute_result"
    }
   ],
   "source": [
    "def comparador_letra_numero (palabra,numero):\n",
    "    if len(palabra) == numero:\n",
    "        return True\n",
    "    else:\n",
    "        return False\n",
    "    \n",
    "comparador_letra_numero('oso',4)"
   ]
  },
  {
   "cell_type": "code",
   "execution_count": null,
   "id": "9c038d20",
   "metadata": {},
   "outputs": [],
   "source": [
    "def comparador_letra_numero (palabra,numero):\n",
    "    if len(palabra) == numero:\n",
    "        print(f'la palabra es {palabra} y el numero es {numero}.  Si son correspondientes')\n",
    "        return True\n",
    "        \n",
    "    else:\n",
    "        print('desiguales {palabra} y {numero}')\n",
    "        return False\n",
    "    \n",
    "comparador_letra_numero('oso',4)"
   ]
  },
  {
   "cell_type": "markdown",
   "id": "29140ce3",
   "metadata": {},
   "source": [
    "CHALLENGE NUMERO 5 --------------VARIOS MINUTOS"
   ]
  },
  {
   "cell_type": "code",
   "execution_count": 24,
   "id": "c25fa17d",
   "metadata": {},
   "outputs": [
    {
     "name": "stdout",
     "output_type": "stream",
     "text": [
      "[['c', 'o', 'r', 'o'], ['c', 'a', 'c', 'a'], ['p', 'i', 'p', 'i']]\n"
     ]
    }
   ],
   "source": [
    "palabra_user1 = list(input('Ingresa una palabra kraken:'))\n",
    "palabra_user2 = list(input('Ingresa una palabra kraken:'))\n",
    "palabra_user3 = list(input('Ingresa una palabra kraken:'))\n",
    "palabras_ingresadas = [palabra_user1,palabra_user2, palabra_user3]\n",
    "print(palabras_ingresadas)\n",
    "\n",
    "\n",
    "\n",
    "\n",
    "\n"
   ]
  },
  {
   "cell_type": "code",
   "execution_count": 28,
   "id": "9edf5e2d",
   "metadata": {},
   "outputs": [
    {
     "name": "stdout",
     "output_type": "stream",
     "text": [
      "[['l', 'a', 'd', 'y']]\n",
      "[['l', 'a', 'd', 'y'], ['g', 'a', 'g', 'a']]\n",
      "[['l', 'a', 'd', 'y'], ['g', 'a', 'g', 'a'], ['c', 'h', 'a', 'm', 'p']]\n"
     ]
    }
   ],
   "source": [
    "palabras_ingresadas = []\n",
    "for i in range(3):\n",
    "    palabra_user = input('Introduce una palabra crack:')\n",
    "    palabra_listeada = list(palabra_user)\n",
    "    palabras_ingresadas.append(palabra_listeada)\n",
    "    print(palabras_ingresadas)\n"
   ]
  },
  {
   "cell_type": "code",
   "execution_count": 30,
   "id": "312e46f6",
   "metadata": {},
   "outputs": [
    {
     "name": "stdout",
     "output_type": "stream",
     "text": [
      "[['l', 'a', 'd', 'y']]\n",
      "[['l', 'a', 'd', 'y'], ['g', 'a', 'g', 'a']]\n",
      "[['l', 'a', 'd', 'y'], ['g', 'a', 'g', 'a'], ['c', 'h', 'a', 'm', 'p']]\n"
     ]
    }
   ],
   "source": [
    "palabras_ingresadas = []\n",
    "for i in range(3):\n",
    "    palabra_user = input('Introduce una palabra crack:')\n",
    "    palabra_listeada = list(palabra_user)\n",
    "    palabras_ingresadas.append(palabra_listeada)\n",
    "    print(palabras_ingresadas)"
   ]
  },
  {
   "cell_type": "markdown",
   "id": "5e889c92",
   "metadata": {},
   "source": [
    "CHALLENGE HEAVY DE PALABRAS NUMERO 6 ----------------- MINUTOS\n",
    "dad la lista de ejemplo.\n",
    "lista = [['h','o','l','i','s'],['h','e','l','l','o'],['h','a','l','l','o']]\n",
    "crear una función que imprima una grilla (lista de listas), una línea por cada lista dentro de la lista."
   ]
  },
  {
   "cell_type": "code",
   "execution_count": 34,
   "id": "979e3cb0",
   "metadata": {},
   "outputs": [
    {
     "name": "stdout",
     "output_type": "stream",
     "text": [
      "['h', 'o', 'l', 'i', 's']\n",
      "['h', 'e', 'l', 'l', 'o']\n",
      "['h', 'a', 'l', 'l', 'o']\n"
     ]
    }
   ],
   "source": [
    "lista = [['h','o','l','i','s'],['h','e','l','l','o'],['h','a','l','l','o']]\n",
    "\n",
    "def imprimir_lista_dentro_de_la_lista(lista):\n",
    "    for saludo in lista:\n",
    "        print(saludo)\n",
    "\n",
    "imprimir_lista_dentro_de_la_lista(lista)"
   ]
  },
  {
   "cell_type": "code",
   "execution_count": 35,
   "id": "2705b5d1",
   "metadata": {},
   "outputs": [
    {
     "name": "stdout",
     "output_type": "stream",
     "text": [
      "['h', 'o', 'l', 'i', 's']\n",
      "['h', 'e', 'l', 'l', 'o']\n",
      "['h', 'a', 'l', 'l', 'o']\n"
     ]
    }
   ],
   "source": [
    "def imprimir_lista_dentro_de_la_lista():\n",
    "    lista = [['h','o','l','i','s'],['h','e','l','l','o'],['h','a','l','l','o']]\n",
    "    for saludo in lista:\n",
    "        print(saludo)\n",
    "\n",
    "imprimir_lista_dentro_de_la_lista()"
   ]
  },
  {
   "cell_type": "code",
   "execution_count": 36,
   "id": "a3f66e6b",
   "metadata": {},
   "outputs": [
    {
     "name": "stdout",
     "output_type": "stream",
     "text": [
      "['h', 'o', 'l', 'i', 's']\n",
      "['h', 'e', 'l', 'l', 'o']\n",
      "['h', 'a', 'l', 'l', 'o']\n"
     ]
    }
   ],
   "source": [
    "#CHALLENGE DEL COMPAÑERO\n",
    "lista = [['h','o','l','i','s'],['h','e','l','l','o'],['h','a','l','l','o']]\n",
    "\n",
    "def imprimir_lista_posición(lista):\n",
    "    print(lista[0])\n",
    "    print(lista[1])\n",
    "    print(lista[2])\n",
    "\n",
    "imprimir_lista_posición(lista)\n",
    "\n"
   ]
  },
  {
   "cell_type": "markdown",
   "id": "1861b521",
   "metadata": {},
   "source": [
    "CHALLENGE WORDEN EN EQUIPO\n",
    "\n",
    "Iniciar juego\n",
    "\n",
    "definir palabra_a_encontrar\n",
    "definir cantidad_de_letras\n",
    "definir intentos\n",
    "crear grilla vacía (lista para mostrar el progreso del jugador)\n",
    "\n",
    "mostrar mensaje de bienvenida"
   ]
  },
  {
   "cell_type": "code",
   "execution_count": 67,
   "id": "9f50c6bb",
   "metadata": {},
   "outputs": [
    {
     "name": "stdout",
     "output_type": "stream",
     "text": [
      "'[c]', '[a]', '[r]', '[n]', '[e]'\n",
      "ES LA PALABRA CORRECTA\n",
      "te quedaste sin vidas\n"
     ]
    }
   ],
   "source": [
    "palabra_del_juego = 'carne'\n",
    "vidas = 3\n",
    "\n",
    "\n",
    "    \n",
    "\n",
    "def conocer_fila_verificada(palabra_del_juego,palabra_usuario):\n",
    "\n",
    "    longitud_de_palabra_del_juego = 5\n",
    "\n",
    "    letras_comparadas = []\n",
    "\n",
    "    for indice in range(longitud_de_palabra_del_juego):\n",
    "        letras_identicas = palabra_del_juego[indice]==palabra_usuario[indice]\n",
    "\n",
    "        letra_existente = palabra_usuario[indice] in palabra_del_juego\n",
    "\n",
    "        if letras_identicas:\n",
    "            letras_comparadas.append('['+ palabra_usuario[indice] + ']')\n",
    "        elif letra_existente:\n",
    "            letras_comparadas.append('('+palabra_usuario[indice]+')')\n",
    "        else:\n",
    "            letras_comparadas.append(palabra_usuario[indice])\n",
    "        \n",
    "    return letras_comparadas\n",
    "\n",
    "\n",
    "while vidas > 0:\n",
    "    palabra_usuario = input('ingresa una palabra de 5 letras')\n",
    "    if palabra_del_juego == palabra_usuario:\n",
    "        print(\"'[c]', '[a]', '[r]', '[n]', '[e]'\")\n",
    "        vidas = 0\n",
    "        print('ES LA PALABRA CORRECTA')\n",
    "        \n",
    "    else:\n",
    "        linea_verificada = conocer_fila_verificada(palabra_del_juego,palabra_usuario)\n",
    "        print(linea_verificada)\n",
    "        vidas = vidas - 1\n",
    "        print(f' te quedan {vidas}')\n",
    "\n",
    "    \n",
    "print('te quedaste sin vidas')\n",
    "\n"
   ]
  }
 ],
 "metadata": {
  "kernelspec": {
   "display_name": "Python 3",
   "language": "python",
   "name": "python3"
  },
  "language_info": {
   "codemirror_mode": {
    "name": "ipython",
    "version": 3
   },
   "file_extension": ".py",
   "mimetype": "text/x-python",
   "name": "python",
   "nbconvert_exporter": "python",
   "pygments_lexer": "ipython3",
   "version": "3.12.4"
  }
 },
 "nbformat": 4,
 "nbformat_minor": 5
}
